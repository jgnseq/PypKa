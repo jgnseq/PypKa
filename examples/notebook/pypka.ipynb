{
  "nbformat": 4,
  "nbformat_minor": 2,
  "metadata": {
    "colab": {
      "name": "pypka.ipynb",
      "provenance": []
    },
    "kernelspec": {
      "name": "python3",
      "display_name": "Python 3",
      "language": "python"
    }
  },
  "cells": [
    {
      "cell_type": "code",
      "execution_count": 2,
      "source": [
        "# To run locally as root\n",
        "!apt-get -qq install -y libgfortran4 gawk"
      ],
      "outputs": [
        {
          "output_type": "stream",
          "name": "stdout",
          "text": [
            "E: Could not open lock file /var/lib/dpkg/lock-frontend - open (13: Permission denied)\n",
            "E: Unable to acquire the dpkg frontend lock (/var/lib/dpkg/lock-frontend), are you root?\n"
          ]
        }
      ],
      "metadata": {
        "id": "uBkU-8Oy7g6n",
        "colab_type": "code",
        "outputId": "1089993a-0c4e-4a9d-ee1d-5f7fe774ab22",
        "colab": {
          "base_uri": "https://localhost:8080/",
          "height": 289
        }
      }
    },
    {
      "cell_type": "code",
      "execution_count": 4,
      "source": [
        "!python3 -m pip install --user pypka biopython"
      ],
      "outputs": [
        {
          "output_type": "stream",
          "name": "stdout",
          "text": [
            "Requirement already satisfied: pypka in /home/pedror/.local/lib/python3.8/site-packages (2.3.0)\n",
            "Requirement already satisfied: biopython in /home/pedror/.local/lib/python3.8/site-packages (1.78)\n",
            "Requirement already satisfied: numpy in /home/pedror/.local/lib/python3.8/site-packages (from pypka) (1.19.4)\n",
            "Requirement already satisfied: psutil in /home/pedror/.local/lib/python3.8/site-packages (from pypka) (5.6.7)\n"
          ]
        }
      ],
      "metadata": {}
    },
    {
      "cell_type": "code",
      "execution_count": 5,
      "source": [
        "from pypka import Titration\n",
        "import Bio\n",
        "from Bio.PDB import PDBList\n",
        "import os"
      ],
      "outputs": [],
      "metadata": {
        "id": "AhnkwzN79Lbu",
        "colab_type": "code",
        "colab": {}
      }
    },
    {
      "cell_type": "code",
      "execution_count": 6,
      "source": [
        "pdbl = PDBList()\n",
        "pdbl.retrieve_pdb_file('4lzt', file_format=\"pdb\", pdir='.')\n",
        "os.rename('pdb4lzt.ent', '4lzt.pdb')"
      ],
      "outputs": [
        {
          "output_type": "stream",
          "name": "stdout",
          "text": [
            "Downloading PDB structure '4lzt'...\n"
          ]
        }
      ],
      "metadata": {
        "id": "z3y_8vQi9RqB",
        "colab_type": "code",
        "outputId": "d5408454-ab44-429a-8d32-8f2e583f94f1",
        "colab": {
          "base_uri": "https://localhost:8080/",
          "height": 34
        }
      }
    },
    {
      "cell_type": "code",
      "execution_count": 7,
      "source": [
        "params = {\n",
        "    'structure'     : '4lzt.pdb',    \n",
        "    'pH'            : \"0,14\",\n",
        "    'ncpus'         : 1,\n",
        "    'epsin'         : 15,\n",
        "    'ionicstr'      : 0.1,\n",
        "    'pbc_dimensions': 0,\n",
        "    'convergence'   : 0.1\n",
        "}"
      ],
      "outputs": [],
      "metadata": {
        "id": "6bUM38D9LApJ",
        "colab_type": "code",
        "colab": {}
      }
    },
    {
      "cell_type": "code",
      "execution_count": 11,
      "source": [
        "tit = Titration(params)  "
      ],
      "outputs": [
        {
          "output_type": "stream",
          "name": "stdout",
          "text": [
            "Start Preprocessing\n",
            "Start PB Calculations\n",
            "PB Runs Ended                                                                                \n",
            "\n",
            "MC Runs Ended                                                                                \n",
            "\n",
            "Results\n",
            "Chain  Site   Name      pK\n",
            "   A      1    NTR     7.55\n",
            "   A      1    LYS    10.41\n",
            "   A      7    GLU     3.60\n",
            "   A     13    LYS    11.13\n",
            "   A     15    HIS     5.88\n",
            "   A     18    ASP     3.38\n",
            "   A     20    TYR    10.35\n",
            "   A     23    TYR     9.74\n",
            "   A     24    SER    Not In Range\n",
            "   A     33    LYS     9.10\n",
            "   A     35    GLU     4.82\n",
            "   A     36    SER    Not In Range\n",
            "   A     40    THR    Not In Range\n",
            "   A     43    THR    Not In Range\n",
            "   A     47    THR    Not In Range\n",
            "   A     48    ASP     2.37\n",
            "   A     50    SER    Not In Range\n",
            "   A     51    THR    Not In Range\n",
            "   A     52    ASP     3.11\n",
            "   A     53    TYR    11.33\n",
            "   A     60    SER    Not In Range\n",
            "   A     66    ASP     2.96\n",
            "   A     69    THR    Not In Range\n",
            "   A     72    SER    Not In Range\n",
            "   A     81    SER    Not In Range\n",
            "   A     85    SER    Not In Range\n",
            "   A     86    SER    Not In Range\n",
            "   A     87    ASP     2.95\n",
            "   A     89    THR    Not In Range\n",
            "   A     91    SER    Not In Range\n",
            "   A     96    LYS    10.99\n",
            "   A     97    LYS    11.04\n",
            "   A    100    SER    Not In Range\n",
            "   A    101    ASP     3.89\n",
            "   A    116    LYS    10.11\n",
            "   A    118    THR    Not In Range\n",
            "   A    119    ASP     2.87\n",
            "   A    129    CTR     2.25\n",
            "API exited successfully\n"
          ]
        }
      ],
      "metadata": {
        "id": "QxyAdLEKLlEU",
        "colab_type": "code",
        "outputId": "c34a2158-86e7-4e48-e359-c65325c1212c",
        "colab": {
          "base_uri": "https://localhost:8080/",
          "height": 238
        }
      }
    },
    {
      "cell_type": "code",
      "execution_count": 17,
      "source": [
        "pH = 7.0\n",
        "for site in tit:\n",
        "    pK = round(site.pK, 1) if site.pK else '-----'\n",
        "    state = site.getProtState(pH)[0]    \n",
        "    print(f'{site.res_name} {site.res_number:10} {pK:5} {state}')"
      ],
      "outputs": [
        {
          "output_type": "stream",
          "name": "stdout",
          "text": [
            "NTR       5001   7.6 undefined\n",
            "LYS          1  10.4 protonated\n",
            "GLU          7   3.6 deprotonated\n",
            "LYS         13  11.1 protonated\n",
            "HIS         15   5.9 deprotonated\n",
            "ASP         18   3.4 deprotonated\n",
            "TYR         20  10.4 protonated\n",
            "TYR         23   9.7 protonated\n",
            "SER         24 ----- undefined\n",
            "LYS         33   9.1 protonated\n",
            "GLU         35   4.8 deprotonated\n",
            "SER         36 ----- undefined\n",
            "THR         40 ----- undefined\n",
            "THR         43 ----- undefined\n",
            "THR         47 ----- undefined\n",
            "ASP         48   2.4 deprotonated\n",
            "SER         50 ----- undefined\n",
            "THR         51 ----- undefined\n",
            "ASP         52   3.1 deprotonated\n",
            "TYR         53  11.3 protonated\n",
            "SER         60 ----- undefined\n",
            "ASP         66   3.0 deprotonated\n",
            "THR         69 ----- undefined\n",
            "SER         72 ----- undefined\n",
            "SER         81 ----- undefined\n",
            "SER         85 ----- undefined\n",
            "SER         86 ----- undefined\n",
            "ASP         87   3.0 deprotonated\n",
            "THR         89 ----- undefined\n",
            "SER         91 ----- undefined\n",
            "LYS         96  11.0 protonated\n",
            "LYS         97  11.0 protonated\n",
            "SER        100 ----- undefined\n",
            "ASP        101   3.9 deprotonated\n",
            "LYS        116  10.1 protonated\n",
            "THR        118 ----- undefined\n",
            "ASP        119   2.9 deprotonated\n",
            "CTR       5129   2.2 deprotonated\n"
          ]
        }
      ],
      "metadata": {
        "id": "vsFxypE9FdLZ",
        "colab_type": "code",
        "colab": {
          "base_uri": "https://localhost:8080/",
          "height": 85
        },
        "outputId": "ae7f5d69-b8ad-414f-eaca-ffbd043897dd"
      }
    },
    {
      "cell_type": "code",
      "execution_count": 18,
      "source": [
        "import matplotlib.pyplot as plt\n",
        "tit_curve = tit.getTitrationCurve()\n",
        "x = sorted(list(tit_curve.keys()))\n",
        "y = [tit_curve[pH] for pH in x]\n",
        "plt.title('Total Titration Curve')\n",
        "plt.xlabel('pH')\n",
        "plt.xlabel('Protonation')\n",
        "plt.plot(x, y)\n",
        "plt.show()"
      ],
      "outputs": [
        {
          "output_type": "display_data",
          "data": {
            "text/plain": [
              "<Figure size 432x288 with 1 Axes>"
            ],
            "image/png": "[encoded data removed]"
          },
          "metadata": {
            "needs_background": "light"
          }
        }
      ],
      "metadata": {
        "id": "nF24CkxjGXaA",
        "colab_type": "code",
        "colab": {
          "base_uri": "https://localhost:8080/",
          "height": 295
        },
        "outputId": "cdcf0387-04e9-4dee-bba4-47a211b1ec59"
      }
    },
    {
      "cell_type": "code",
      "execution_count": null,
      "source": [],
      "outputs": [],
      "metadata": {}
    }
  ]
}